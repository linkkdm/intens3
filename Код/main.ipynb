{
 "cells": [
  {
   "cell_type": "markdown",
   "metadata": {},
   "source": [
    "Выгрузка библиотек"
   ]
  },
  {
   "cell_type": "code",
   "execution_count": 1,
   "metadata": {},
   "outputs": [],
   "source": [
    "import pandas as pd\n",
    "import numpy as np"
   ]
  },
  {
   "cell_type": "markdown",
   "metadata": {},
   "source": [
    "Выгрузка самописных функций"
   ]
  },
  {
   "cell_type": "code",
   "execution_count": 2,
   "metadata": {},
   "outputs": [],
   "source": [
    "from functions.format_fu import rename, format_dates_column, clean_commas, m_and_k\n",
    "from functions.main_fu import removing_columns, remove_unnecessary_columns"
   ]
  },
  {
   "cell_type": "markdown",
   "metadata": {},
   "source": [
    "Снятие ограничения на отображение колонок"
   ]
  },
  {
   "cell_type": "code",
   "execution_count": 3,
   "metadata": {},
   "outputs": [],
   "source": [
    "# pd.set_option('display.max_columns', None)\n",
    "\n",
    "# Снятие ограничения на отображение строк\n",
    "# pd.set_option('display.max_rows', None)"
   ]
  },
  {
   "cell_type": "markdown",
   "metadata": {},
   "source": [
    "Загрузка дополнительных датафреймов"
   ]
  },
  {
   "cell_type": "code",
   "execution_count": 4,
   "metadata": {},
   "outputs": [],
   "source": [
    "df1 = pd.read_csv('data\\\\CHMF Акции.csv')\n",
    "df2 = pd.read_csv('data\\\\MAGN Акции.csv')\n",
    "df3 = pd.read_csv('data\\\\NLMK Акции.csv')\n",
    "df4 = pd.read_csv('data\\\\sample_submission.csv')\n",
    "df5 = pd.read_csv('data\\\\Грузоперевозки.csv')\n",
    "df6 = pd.read_csv('data\\\\Данные-рынка-стройматериалов.csv')\n",
    "df7 = pd.read_csv('data\\\\Индекс-LME.csv')\n",
    "df8 = pd.read_csv('data\\\\Макропоказатели.csv')\n",
    "df9 = pd.read_csv('data\\\\Показатели-рынка-металла.csv')\n",
    "df10 = pd.read_csv('data\\\\Топливо.csv', sep=';')\n",
    "df11 = pd.read_csv('data\\\\Цены-на-сырье.csv')\n",
    "\n",
    "# Так как по условию дата должна быть в периоде с 2015 года, данные файлы не будут использоваться:\n",
    "# \"data\\\\Грузоперевозки.csv\", \"data\\\\Данные-рынка-стройматериалов.csv\", \n",
    "# \"data\\\\Показатели-рынка-металла.csv\", \"data\\\\sample_submission.csv\"\n"
   ]
  },
  {
   "cell_type": "markdown",
   "metadata": {},
   "source": [
    "Удаление столбцов с >60% пропусков"
   ]
  },
  {
   "cell_type": "code",
   "execution_count": 5,
   "metadata": {},
   "outputs": [
    {
     "name": "stdout",
     "output_type": "stream",
     "text": [
      "Файл data\\Макропоказатели.csv: удалено 0 столбцов\n",
      "Файл data\\Цены-на-сырье.csv: удалено 0 столбцов\n"
     ]
    }
   ],
   "source": [
    "file_paths = [\n",
    "    'data\\\\Макропоказатели.csv',\n",
    "    'data\\\\Цены-на-сырье.csv'\n",
    "    ]\n",
    "\n",
    "for path in file_paths:\n",
    "    removed = removing_columns(path)\n",
    "    print(f\"Файл {path}: удалено {removed} столбцов\")"
   ]
  },
  {
   "cell_type": "markdown",
   "metadata": {},
   "source": [
    "Преобразование столбцов в единый формат записи в датафрейме \"топливо\""
   ]
  },
  {
   "cell_type": "code",
   "execution_count": 6,
   "metadata": {},
   "outputs": [
    {
     "name": "stdout",
     "output_type": "stream",
     "text": [
      "Данные уже изменены!\n"
     ]
    }
   ],
   "source": [
    "try:\n",
    "    # Преобразование столбцов в тип float\n",
    "    df10['Цена на бензин'] = df10['Цена на бензин'].str.replace(',', '.').astype(float)\n",
    "    df10['Цена на дт'] = df10['Цена на дт'].str.replace(',', '.').astype(float)\n",
    "\n",
    "    # Изменили разделитель на запятую и сохраним файл\n",
    "    df10.to_csv('data\\\\топливо.csv', sep=',', index=False)\n",
    "except:\n",
    "    print(\"Данные уже изменены!\")"
   ]
  },
  {
   "cell_type": "markdown",
   "metadata": {},
   "source": [
    "Переименование столбцов в файлах и сохранение в новые пути"
   ]
  },
  {
   "cell_type": "code",
   "execution_count": 7,
   "metadata": {},
   "outputs": [
    {
     "name": "stdout",
     "output_type": "stream",
     "text": [
      "Успешно обработан: data\\CHMF Акции.csv -> rename_data\\CHMF.csv\n",
      "Успешно обработан: data\\MAGN Акции.csv -> rename_data\\MAGN.csv\n",
      "Успешно обработан: data\\NLMK Акции.csv -> rename_data\\NLMK.csv\n",
      "Успешно обработан: data\\Индекс-LME.csv -> rename_data\\индекс-LME.csv\n",
      "Успешно обработан: data\\Макропоказатели.csv -> rename_data\\макропоказатели.csv\n",
      "Успешно обработан: data\\Топливо.csv -> rename_data\\топливо.csv\n",
      "Успешно обработан: data\\Цены-на-сырье.csv -> rename_data\\цены-на-сырье.csv\n"
     ]
    }
   ],
   "source": [
    "rename()"
   ]
  },
  {
   "cell_type": "markdown",
   "metadata": {},
   "source": [
    "Приведение даты к единому формату"
   ]
  },
  {
   "cell_type": "code",
   "execution_count": 8,
   "metadata": {},
   "outputs": [
    {
     "name": "stderr",
     "output_type": "stream",
     "text": [
      "c:\\Users\\artem\\OneDrive\\Рабочий стол\\intens3\\Код\\functions\\format_fu.py:105: UserWarning: The argument 'infer_datetime_format' is deprecated and will be removed in a future version. A strict version of it is now the default, see https://pandas.pydata.org/pdeps/0004-consistent-to-datetime-parsing.html. You can safely remove this argument.\n",
      "  df[column_name] = pd.to_datetime(\n",
      "c:\\Users\\artem\\OneDrive\\Рабочий стол\\intens3\\Код\\functions\\format_fu.py:105: UserWarning: The argument 'infer_datetime_format' is deprecated and will be removed in a future version. A strict version of it is now the default, see https://pandas.pydata.org/pdeps/0004-consistent-to-datetime-parsing.html. You can safely remove this argument.\n",
      "  df[column_name] = pd.to_datetime(\n",
      "c:\\Users\\artem\\OneDrive\\Рабочий стол\\intens3\\Код\\functions\\format_fu.py:105: UserWarning: Parsing dates in %d.%m.%Y format when dayfirst=False (the default) was specified. Pass `dayfirst=True` or specify a format to silence this warning.\n",
      "  df[column_name] = pd.to_datetime(\n",
      "c:\\Users\\artem\\OneDrive\\Рабочий стол\\intens3\\Код\\functions\\format_fu.py:105: UserWarning: The argument 'infer_datetime_format' is deprecated and will be removed in a future version. A strict version of it is now the default, see https://pandas.pydata.org/pdeps/0004-consistent-to-datetime-parsing.html. You can safely remove this argument.\n",
      "  df[column_name] = pd.to_datetime(\n"
     ]
    },
    {
     "name": "stdout",
     "output_type": "stream",
     "text": [
      "Файл сохранен как: rename_data\\CHMF.csv\n",
      "Файл сохранен как: rename_data\\MAGN.csv\n",
      "Файл сохранен как: rename_data\\NLMK.csv\n",
      "Файл сохранен как: rename_data\\индекс-LME.csv\n",
      "Файл сохранен как: rename_data\\макропоказатели.csv\n",
      "Файл сохранен как: rename_data\\цены-на-сырье.csv\n",
      "Файл сохранен как: rename_data\\топливо.csv\n"
     ]
    },
    {
     "name": "stderr",
     "output_type": "stream",
     "text": [
      "c:\\Users\\artem\\OneDrive\\Рабочий стол\\intens3\\Код\\functions\\format_fu.py:105: UserWarning: The argument 'infer_datetime_format' is deprecated and will be removed in a future version. A strict version of it is now the default, see https://pandas.pydata.org/pdeps/0004-consistent-to-datetime-parsing.html. You can safely remove this argument.\n",
      "  df[column_name] = pd.to_datetime(\n",
      "c:\\Users\\artem\\OneDrive\\Рабочий стол\\intens3\\Код\\functions\\format_fu.py:105: UserWarning: The argument 'infer_datetime_format' is deprecated and will be removed in a future version. A strict version of it is now the default, see https://pandas.pydata.org/pdeps/0004-consistent-to-datetime-parsing.html. You can safely remove this argument.\n",
      "  df[column_name] = pd.to_datetime(\n",
      "c:\\Users\\artem\\OneDrive\\Рабочий стол\\intens3\\Код\\functions\\format_fu.py:105: UserWarning: The argument 'infer_datetime_format' is deprecated and will be removed in a future version. A strict version of it is now the default, see https://pandas.pydata.org/pdeps/0004-consistent-to-datetime-parsing.html. You can safely remove this argument.\n",
      "  df[column_name] = pd.to_datetime(\n",
      "c:\\Users\\artem\\OneDrive\\Рабочий стол\\intens3\\Код\\functions\\format_fu.py:105: UserWarning: The argument 'infer_datetime_format' is deprecated and will be removed in a future version. A strict version of it is now the default, see https://pandas.pydata.org/pdeps/0004-consistent-to-datetime-parsing.html. You can safely remove this argument.\n",
      "  df[column_name] = pd.to_datetime(\n"
     ]
    }
   ],
   "source": [
    "file_paths = [\n",
    "    'rename_data\\\\CHMF.csv',\n",
    "    'rename_data\\\\MAGN.csv',\n",
    "    'rename_data\\\\NLMK.csv',\n",
    "    'rename_data\\\\индекс-LME.csv',\n",
    "    'rename_data\\\\макропоказатели.csv',\n",
    "    'rename_data\\\\цены-на-сырье.csv',\n",
    "    'rename_data\\\\топливо.csv'\n",
    "]\n",
    "\n",
    "for i in file_paths:\n",
    "    format_dates_column(i, 'date')"
   ]
  },
  {
   "cell_type": "markdown",
   "metadata": {},
   "source": [
    "Приведение чисел в единый формат, удаление ненужных запятых в колонках"
   ]
  },
  {
   "cell_type": "code",
   "execution_count": 9,
   "metadata": {},
   "outputs": [
    {
     "name": "stdout",
     "output_type": "stream",
     "text": [
      "Запятые успешно удалены, тип данных изменён.\n"
     ]
    }
   ],
   "source": [
    "try:\n",
    "\n",
    "    file_paths = [\n",
    "        'rename_data\\\\CHMF.csv',\n",
    "        'rename_data\\\\MAGN.csv',\n",
    "        'rename_data\\\\NLMK.csv',\n",
    "        ]\n",
    "\n",
    "    # Удаление лишних запятых в остальных файлах, с помощью написанной функции\n",
    "    for i in file_paths:\n",
    "        clean_commas(i)\n",
    "\n",
    "    print(\"Запятые успешно удалены, тип данных изменён.\")\n",
    "except Exception as e:\n",
    "    print(f\"Произошла ошибка при загрузке данных: {e}\")"
   ]
  },
  {
   "cell_type": "markdown",
   "metadata": {},
   "source": [
    "Удаление ненужных колонок в файлах"
   ]
  },
  {
   "cell_type": "code",
   "execution_count": 10,
   "metadata": {},
   "outputs": [],
   "source": [
    "# Список файлов для обработки\n",
    "files = [\n",
    "    'rename_data/CHMF.csv',\n",
    "    'rename_data/MAGN.csv',\n",
    "    'rename_data/NLMK.csv'\n",
    "    ]\n",
    "    \n",
    "# Колонки, которые нужно удалить\n",
    "columns_to_drop = ['open', 'high_price', 'low_price']\n",
    "\n",
    "remove_unnecessary_columns(files, columns_to_drop)"
   ]
  },
  {
   "cell_type": "markdown",
   "metadata": {},
   "source": [
    "Форматирование чисел в файле акций (преобразование в миллионы и тысячи)"
   ]
  },
  {
   "cell_type": "code",
   "execution_count": 11,
   "metadata": {},
   "outputs": [],
   "source": [
    "for path in files:\n",
    "    df = pd.read_csv(path)  # Загрузка данных\n",
    "    df['volume'] = df['volume'].apply(m_and_k)  # Применение функции к столбцу 'volume'\n",
    "    df.to_csv(path, sep=',', index=False)   # Сохранение данных"
   ]
  },
  {
   "cell_type": "markdown",
   "metadata": {},
   "source": [
    "Загрузка и переименование колонок для каждого файла. Объединение данных по колонке date."
   ]
  },
  {
   "cell_type": "code",
   "execution_count": 12,
   "metadata": {},
   "outputs": [],
   "source": [
    "# Загрузка и переименование колонок для каждого файла\n",
    "chmf = pd.read_csv('rename_data/CHMF.csv')\n",
    "chmf.columns = ['date'] + [f'CHMF_{col}' for col in chmf.columns if col != 'date']\n",
    "\n",
    "magn = pd.read_csv('rename_data/MAGN.csv', decimal=',')\n",
    "magn.columns = ['date'] + [f'MAGN_{col}' for col in magn.columns if col != 'date']\n",
    "\n",
    "nlmk = pd.read_csv('rename_data/NLMK.csv')\n",
    "nlmk.columns = ['date'] + [f'NLMK_{col}' for col in nlmk.columns if col != 'date']\n",
    "\n",
    "lme = pd.read_csv('rename_data\\\\индекс-LME.csv')\n",
    "# Объединение данных по колонке date\n",
    "merged_df = chmf.merge(magn, on='date').merge(nlmk, on='date').merge(lme, on='date')\n",
    "\n",
    "merged_df.to_csv('merged_df.csv', index=False)"
   ]
  }
 ],
 "metadata": {
  "kernelspec": {
   "display_name": "Python 3",
   "language": "python",
   "name": "python3"
  },
  "language_info": {
   "codemirror_mode": {
    "name": "ipython",
    "version": 3
   },
   "file_extension": ".py",
   "mimetype": "text/x-python",
   "name": "python",
   "nbconvert_exporter": "python",
   "pygments_lexer": "ipython3",
   "version": "3.12.9"
  }
 },
 "nbformat": 4,
 "nbformat_minor": 2
}
